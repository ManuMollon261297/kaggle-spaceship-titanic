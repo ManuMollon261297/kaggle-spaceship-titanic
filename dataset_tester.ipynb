{
 "cells": [
  {
   "cell_type": "markdown",
   "id": "085c265f",
   "metadata": {},
   "source": [
    "# Imports"
   ]
  },
  {
   "cell_type": "code",
   "execution_count": 1,
   "id": "4575da61",
   "metadata": {},
   "outputs": [],
   "source": [
    "import zipfile\n",
    "import os\n",
    "import pandas as pd\n",
    "import numpy as np\n",
    "\n",
    "from sklearn.preprocessing import OneHotEncoder\n",
    "from sklearn.model_selection import train_test_split\n",
    "from sklearn.metrics import confusion_matrix, ConfusionMatrixDisplay\n",
    "\n",
    "from sklearn.linear_model import LogisticRegression\n",
    "from sklearn.tree import DecisionTreeClassifier\n",
    "from sklearn.naive_bayes import GaussianNB\n",
    "from sklearn.pipeline import make_pipeline\n",
    "from sklearn.preprocessing import StandardScaler\n",
    "from sklearn.svm import SVC\n",
    "from sklearn.ensemble import GradientBoostingClassifier\n",
    "from sklearn.ensemble import RandomForestClassifier\n",
    "from sklearn.neighbors import KNeighborsClassifier\n",
    "\n",
    "import scipy.stats as stats"
   ]
  },
  {
   "cell_type": "code",
   "execution_count": 2,
   "id": "32185ea5",
   "metadata": {},
   "outputs": [],
   "source": [
    "import matplotlib.pyplot as plt"
   ]
  },
  {
   "cell_type": "markdown",
   "id": "dd6d2462",
   "metadata": {},
   "source": [
    "# Download Data"
   ]
  },
  {
   "cell_type": "code",
   "execution_count": 3,
   "id": "9213220e",
   "metadata": {},
   "outputs": [
    {
     "name": "stdout",
     "output_type": "stream",
     "text": [
      "spaceship-titanic.zip: Skipping, found more recently modified local copy (use --force to force download)\r\n"
     ]
    }
   ],
   "source": [
    "!kaggle competitions download -c 'spaceship-titanic'"
   ]
  },
  {
   "cell_type": "code",
   "execution_count": 4,
   "id": "8c648387",
   "metadata": {},
   "outputs": [],
   "source": [
    "path_to_zip_file = os.getcwd() + '/' + 'spaceship-titanic' + '.zip'\n",
    "directory_to_extract_to = os.getcwd() + '/' + 'spaceship-titanic'"
   ]
  },
  {
   "cell_type": "code",
   "execution_count": 5,
   "id": "4e7206e8",
   "metadata": {},
   "outputs": [],
   "source": [
    "with zipfile.ZipFile(path_to_zip_file, 'r') as zip_ref:\n",
    "    zip_ref.extractall(directory_to_extract_to)"
   ]
  },
  {
   "cell_type": "markdown",
   "id": "5508158d",
   "metadata": {},
   "source": [
    "# Datasets"
   ]
  },
  {
   "cell_type": "code",
   "execution_count": 6,
   "id": "e3ee241a",
   "metadata": {},
   "outputs": [],
   "source": [
    "dfs = list()"
   ]
  },
  {
   "cell_type": "code",
   "execution_count": 7,
   "id": "812e0a80",
   "metadata": {},
   "outputs": [],
   "source": [
    "class Dataset:\n",
    "    def __init__(self, X_train, X_test, y_train, y_test, name):\n",
    "        self.name = name\n",
    "        self.X_train = X_train.copy()\n",
    "        self.y_train = y_train.copy()\n",
    "        self.X_test  = X_test.copy()\n",
    "        self.y_test  = y_test.copy()\n",
    "        self.scores = dict()\n",
    "        self.cm = dict()"
   ]
  },
  {
   "cell_type": "code",
   "execution_count": 8,
   "id": "3b511286",
   "metadata": {},
   "outputs": [],
   "source": [
    "def ohe_dataset(cat_vars, data):\n",
    "    ohe = OneHotEncoder(handle_unknown='ignore')\n",
    "    ohe_data = pd.DataFrame(ohe.fit_transform(data[cat_vars]).toarray())\n",
    "    ohe_data.columns = ohe.get_feature_names_out()\n",
    "    data = data.reset_index(drop=True)\n",
    "    final_data = pd.concat([data, ohe_data], axis=1)\n",
    "    final_data = final_data.drop(columns=cat_vars)\n",
    "    return final_data"
   ]
  },
  {
   "cell_type": "code",
   "execution_count": 9,
   "id": "50c9b963",
   "metadata": {},
   "outputs": [],
   "source": [
    "def train_test_split_titanic(data):\n",
    "    X = data.drop(columns=['Transported'])\n",
    "    y = data['Transported']\n",
    "    return train_test_split(X, y, test_size=0.25, random_state=42)  "
   ]
  },
  {
   "cell_type": "markdown",
   "id": "497fcde8",
   "metadata": {},
   "source": [
    "## All columns dataset"
   ]
  },
  {
   "cell_type": "code",
   "execution_count": 10,
   "id": "c79f61a7",
   "metadata": {},
   "outputs": [],
   "source": [
    "data = pd.read_csv(directory_to_extract_to + '/train.csv')"
   ]
  },
  {
   "cell_type": "code",
   "execution_count": 11,
   "id": "da02415e",
   "metadata": {},
   "outputs": [],
   "source": [
    "num_vals = ['Age', 'RoomService', 'FoodCourt', 'ShoppingMall', 'Spa', 'VRDeck']\n",
    "cat_vars = ['HomePlanet', 'CryoSleep', 'Destination', 'VIP', 'Deck', 'Side','FirstName', 'SurName']"
   ]
  },
  {
   "cell_type": "code",
   "execution_count": 12,
   "id": "c917eb82",
   "metadata": {},
   "outputs": [],
   "source": [
    "data[['Deck', 'CabinNumber', 'Side']] = data['Cabin'].str.split('/', expand=True)\n",
    "data[['FirstName', 'SurName']] = data['Name'].str.split(' ', expand=True)\n",
    "data.drop(columns=['Cabin','PassengerId','Name'], inplace=True)\n",
    "data[cat_vars] = data[cat_vars].replace(np.nan, 'Missing')\n",
    "data.dropna(inplace=True)\n",
    "data[cat_vars] = data[cat_vars].astype(str)"
   ]
  },
  {
   "cell_type": "code",
   "execution_count": 13,
   "id": "5cd97233",
   "metadata": {},
   "outputs": [
    {
     "data": {
      "text/html": [
       "<div>\n",
       "<style scoped>\n",
       "    .dataframe tbody tr th:only-of-type {\n",
       "        vertical-align: middle;\n",
       "    }\n",
       "\n",
       "    .dataframe tbody tr th {\n",
       "        vertical-align: top;\n",
       "    }\n",
       "\n",
       "    .dataframe thead th {\n",
       "        text-align: right;\n",
       "    }\n",
       "</style>\n",
       "<table border=\"1\" class=\"dataframe\">\n",
       "  <thead>\n",
       "    <tr style=\"text-align: right;\">\n",
       "      <th></th>\n",
       "      <th>HomePlanet</th>\n",
       "      <th>CryoSleep</th>\n",
       "      <th>Destination</th>\n",
       "      <th>Age</th>\n",
       "      <th>VIP</th>\n",
       "      <th>RoomService</th>\n",
       "      <th>FoodCourt</th>\n",
       "      <th>ShoppingMall</th>\n",
       "      <th>Spa</th>\n",
       "      <th>VRDeck</th>\n",
       "      <th>Transported</th>\n",
       "      <th>Deck</th>\n",
       "      <th>CabinNumber</th>\n",
       "      <th>Side</th>\n",
       "      <th>FirstName</th>\n",
       "      <th>SurName</th>\n",
       "    </tr>\n",
       "  </thead>\n",
       "  <tbody>\n",
       "    <tr>\n",
       "      <th>0</th>\n",
       "      <td>Europa</td>\n",
       "      <td>False</td>\n",
       "      <td>TRAPPIST-1e</td>\n",
       "      <td>39.0</td>\n",
       "      <td>False</td>\n",
       "      <td>0.0</td>\n",
       "      <td>0.0</td>\n",
       "      <td>0.0</td>\n",
       "      <td>0.0</td>\n",
       "      <td>0.0</td>\n",
       "      <td>False</td>\n",
       "      <td>B</td>\n",
       "      <td>0</td>\n",
       "      <td>P</td>\n",
       "      <td>Maham</td>\n",
       "      <td>Ofracculy</td>\n",
       "    </tr>\n",
       "    <tr>\n",
       "      <th>1</th>\n",
       "      <td>Earth</td>\n",
       "      <td>False</td>\n",
       "      <td>TRAPPIST-1e</td>\n",
       "      <td>24.0</td>\n",
       "      <td>False</td>\n",
       "      <td>109.0</td>\n",
       "      <td>9.0</td>\n",
       "      <td>25.0</td>\n",
       "      <td>549.0</td>\n",
       "      <td>44.0</td>\n",
       "      <td>True</td>\n",
       "      <td>F</td>\n",
       "      <td>0</td>\n",
       "      <td>S</td>\n",
       "      <td>Juanna</td>\n",
       "      <td>Vines</td>\n",
       "    </tr>\n",
       "    <tr>\n",
       "      <th>2</th>\n",
       "      <td>Europa</td>\n",
       "      <td>False</td>\n",
       "      <td>TRAPPIST-1e</td>\n",
       "      <td>58.0</td>\n",
       "      <td>True</td>\n",
       "      <td>43.0</td>\n",
       "      <td>3576.0</td>\n",
       "      <td>0.0</td>\n",
       "      <td>6715.0</td>\n",
       "      <td>49.0</td>\n",
       "      <td>False</td>\n",
       "      <td>A</td>\n",
       "      <td>0</td>\n",
       "      <td>S</td>\n",
       "      <td>Altark</td>\n",
       "      <td>Susent</td>\n",
       "    </tr>\n",
       "    <tr>\n",
       "      <th>3</th>\n",
       "      <td>Europa</td>\n",
       "      <td>False</td>\n",
       "      <td>TRAPPIST-1e</td>\n",
       "      <td>33.0</td>\n",
       "      <td>False</td>\n",
       "      <td>0.0</td>\n",
       "      <td>1283.0</td>\n",
       "      <td>371.0</td>\n",
       "      <td>3329.0</td>\n",
       "      <td>193.0</td>\n",
       "      <td>False</td>\n",
       "      <td>A</td>\n",
       "      <td>0</td>\n",
       "      <td>S</td>\n",
       "      <td>Solam</td>\n",
       "      <td>Susent</td>\n",
       "    </tr>\n",
       "    <tr>\n",
       "      <th>4</th>\n",
       "      <td>Earth</td>\n",
       "      <td>False</td>\n",
       "      <td>TRAPPIST-1e</td>\n",
       "      <td>16.0</td>\n",
       "      <td>False</td>\n",
       "      <td>303.0</td>\n",
       "      <td>70.0</td>\n",
       "      <td>151.0</td>\n",
       "      <td>565.0</td>\n",
       "      <td>2.0</td>\n",
       "      <td>True</td>\n",
       "      <td>F</td>\n",
       "      <td>1</td>\n",
       "      <td>S</td>\n",
       "      <td>Willy</td>\n",
       "      <td>Santantines</td>\n",
       "    </tr>\n",
       "  </tbody>\n",
       "</table>\n",
       "</div>"
      ],
      "text/plain": [
       "  HomePlanet CryoSleep  Destination   Age    VIP  RoomService  FoodCourt  \\\n",
       "0     Europa     False  TRAPPIST-1e  39.0  False          0.0        0.0   \n",
       "1      Earth     False  TRAPPIST-1e  24.0  False        109.0        9.0   \n",
       "2     Europa     False  TRAPPIST-1e  58.0   True         43.0     3576.0   \n",
       "3     Europa     False  TRAPPIST-1e  33.0  False          0.0     1283.0   \n",
       "4      Earth     False  TRAPPIST-1e  16.0  False        303.0       70.0   \n",
       "\n",
       "   ShoppingMall     Spa  VRDeck  Transported Deck CabinNumber Side FirstName  \\\n",
       "0           0.0     0.0     0.0        False    B           0    P     Maham   \n",
       "1          25.0   549.0    44.0         True    F           0    S    Juanna   \n",
       "2           0.0  6715.0    49.0        False    A           0    S    Altark   \n",
       "3         371.0  3329.0   193.0        False    A           0    S     Solam   \n",
       "4         151.0   565.0     2.0         True    F           1    S     Willy   \n",
       "\n",
       "       SurName  \n",
       "0    Ofracculy  \n",
       "1        Vines  \n",
       "2       Susent  \n",
       "3       Susent  \n",
       "4  Santantines  "
      ]
     },
     "execution_count": 13,
     "metadata": {},
     "output_type": "execute_result"
    }
   ],
   "source": [
    "data.head()"
   ]
  },
  {
   "cell_type": "code",
   "execution_count": 14,
   "id": "bddde6f6",
   "metadata": {},
   "outputs": [],
   "source": [
    "X_train, X_test, y_train, y_test = train_test_split_titanic(ohe_dataset(cat_vars, data))\n",
    "dfs.append(Dataset(X_train, X_test, y_train, y_test, 'all_columns'))"
   ]
  },
  {
   "cell_type": "markdown",
   "id": "9340b907",
   "metadata": {},
   "source": [
    "## One columns dataset"
   ]
  },
  {
   "cell_type": "code",
   "execution_count": 15,
   "id": "443cf563",
   "metadata": {},
   "outputs": [],
   "source": [
    "data = pd.read_csv(directory_to_extract_to + '/train.csv')"
   ]
  },
  {
   "cell_type": "code",
   "execution_count": 16,
   "id": "80de7986",
   "metadata": {},
   "outputs": [],
   "source": [
    "num_vals = ['Age', 'RoomService', 'FoodCourt', 'ShoppingMall', 'Spa', 'VRDeck']\n",
    "cat_vars = ['HomePlanet', 'CryoSleep', 'Destination', 'VIP', 'Deck', 'Side','FirstName']"
   ]
  },
  {
   "cell_type": "code",
   "execution_count": 17,
   "id": "d3863654",
   "metadata": {},
   "outputs": [],
   "source": [
    "data[['Deck', 'CabinNumber', 'Side']] = data['Cabin'].str.split('/', expand=True)\n",
    "data[['FirstName', 'SurName']] = data['Name'].str.split(' ', expand=True)\n",
    "data.drop(columns=['Cabin','PassengerId','Name','SurName'], inplace=True)\n",
    "data[cat_vars] = data[cat_vars].replace(np.nan, 'Missing')\n",
    "data.dropna(inplace=True)\n",
    "data[cat_vars] = data[cat_vars].astype(str)"
   ]
  },
  {
   "cell_type": "code",
   "execution_count": 18,
   "id": "7744f3f1",
   "metadata": {},
   "outputs": [
    {
     "data": {
      "text/html": [
       "<div>\n",
       "<style scoped>\n",
       "    .dataframe tbody tr th:only-of-type {\n",
       "        vertical-align: middle;\n",
       "    }\n",
       "\n",
       "    .dataframe tbody tr th {\n",
       "        vertical-align: top;\n",
       "    }\n",
       "\n",
       "    .dataframe thead th {\n",
       "        text-align: right;\n",
       "    }\n",
       "</style>\n",
       "<table border=\"1\" class=\"dataframe\">\n",
       "  <thead>\n",
       "    <tr style=\"text-align: right;\">\n",
       "      <th></th>\n",
       "      <th>HomePlanet</th>\n",
       "      <th>CryoSleep</th>\n",
       "      <th>Destination</th>\n",
       "      <th>Age</th>\n",
       "      <th>VIP</th>\n",
       "      <th>RoomService</th>\n",
       "      <th>FoodCourt</th>\n",
       "      <th>ShoppingMall</th>\n",
       "      <th>Spa</th>\n",
       "      <th>VRDeck</th>\n",
       "      <th>Transported</th>\n",
       "      <th>Deck</th>\n",
       "      <th>CabinNumber</th>\n",
       "      <th>Side</th>\n",
       "      <th>FirstName</th>\n",
       "    </tr>\n",
       "  </thead>\n",
       "  <tbody>\n",
       "    <tr>\n",
       "      <th>0</th>\n",
       "      <td>Europa</td>\n",
       "      <td>False</td>\n",
       "      <td>TRAPPIST-1e</td>\n",
       "      <td>39.0</td>\n",
       "      <td>False</td>\n",
       "      <td>0.0</td>\n",
       "      <td>0.0</td>\n",
       "      <td>0.0</td>\n",
       "      <td>0.0</td>\n",
       "      <td>0.0</td>\n",
       "      <td>False</td>\n",
       "      <td>B</td>\n",
       "      <td>0</td>\n",
       "      <td>P</td>\n",
       "      <td>Maham</td>\n",
       "    </tr>\n",
       "    <tr>\n",
       "      <th>1</th>\n",
       "      <td>Earth</td>\n",
       "      <td>False</td>\n",
       "      <td>TRAPPIST-1e</td>\n",
       "      <td>24.0</td>\n",
       "      <td>False</td>\n",
       "      <td>109.0</td>\n",
       "      <td>9.0</td>\n",
       "      <td>25.0</td>\n",
       "      <td>549.0</td>\n",
       "      <td>44.0</td>\n",
       "      <td>True</td>\n",
       "      <td>F</td>\n",
       "      <td>0</td>\n",
       "      <td>S</td>\n",
       "      <td>Juanna</td>\n",
       "    </tr>\n",
       "    <tr>\n",
       "      <th>2</th>\n",
       "      <td>Europa</td>\n",
       "      <td>False</td>\n",
       "      <td>TRAPPIST-1e</td>\n",
       "      <td>58.0</td>\n",
       "      <td>True</td>\n",
       "      <td>43.0</td>\n",
       "      <td>3576.0</td>\n",
       "      <td>0.0</td>\n",
       "      <td>6715.0</td>\n",
       "      <td>49.0</td>\n",
       "      <td>False</td>\n",
       "      <td>A</td>\n",
       "      <td>0</td>\n",
       "      <td>S</td>\n",
       "      <td>Altark</td>\n",
       "    </tr>\n",
       "    <tr>\n",
       "      <th>3</th>\n",
       "      <td>Europa</td>\n",
       "      <td>False</td>\n",
       "      <td>TRAPPIST-1e</td>\n",
       "      <td>33.0</td>\n",
       "      <td>False</td>\n",
       "      <td>0.0</td>\n",
       "      <td>1283.0</td>\n",
       "      <td>371.0</td>\n",
       "      <td>3329.0</td>\n",
       "      <td>193.0</td>\n",
       "      <td>False</td>\n",
       "      <td>A</td>\n",
       "      <td>0</td>\n",
       "      <td>S</td>\n",
       "      <td>Solam</td>\n",
       "    </tr>\n",
       "    <tr>\n",
       "      <th>4</th>\n",
       "      <td>Earth</td>\n",
       "      <td>False</td>\n",
       "      <td>TRAPPIST-1e</td>\n",
       "      <td>16.0</td>\n",
       "      <td>False</td>\n",
       "      <td>303.0</td>\n",
       "      <td>70.0</td>\n",
       "      <td>151.0</td>\n",
       "      <td>565.0</td>\n",
       "      <td>2.0</td>\n",
       "      <td>True</td>\n",
       "      <td>F</td>\n",
       "      <td>1</td>\n",
       "      <td>S</td>\n",
       "      <td>Willy</td>\n",
       "    </tr>\n",
       "  </tbody>\n",
       "</table>\n",
       "</div>"
      ],
      "text/plain": [
       "  HomePlanet CryoSleep  Destination   Age    VIP  RoomService  FoodCourt  \\\n",
       "0     Europa     False  TRAPPIST-1e  39.0  False          0.0        0.0   \n",
       "1      Earth     False  TRAPPIST-1e  24.0  False        109.0        9.0   \n",
       "2     Europa     False  TRAPPIST-1e  58.0   True         43.0     3576.0   \n",
       "3     Europa     False  TRAPPIST-1e  33.0  False          0.0     1283.0   \n",
       "4      Earth     False  TRAPPIST-1e  16.0  False        303.0       70.0   \n",
       "\n",
       "   ShoppingMall     Spa  VRDeck  Transported Deck CabinNumber Side FirstName  \n",
       "0           0.0     0.0     0.0        False    B           0    P     Maham  \n",
       "1          25.0   549.0    44.0         True    F           0    S    Juanna  \n",
       "2           0.0  6715.0    49.0        False    A           0    S    Altark  \n",
       "3         371.0  3329.0   193.0        False    A           0    S     Solam  \n",
       "4         151.0   565.0     2.0         True    F           1    S     Willy  "
      ]
     },
     "execution_count": 18,
     "metadata": {},
     "output_type": "execute_result"
    }
   ],
   "source": [
    "data.head()"
   ]
  },
  {
   "cell_type": "code",
   "execution_count": 19,
   "id": "f253faa1",
   "metadata": {},
   "outputs": [],
   "source": [
    "X_train, X_test, y_train, y_test = train_test_split_titanic(ohe_dataset(cat_vars, data))\n",
    "dfs.append(Dataset(X_train, X_test, y_train, y_test, 'just_first_name_column'))"
   ]
  },
  {
   "cell_type": "markdown",
   "id": "77e21a1f",
   "metadata": {},
   "source": [
    "## No columns dataset"
   ]
  },
  {
   "cell_type": "code",
   "execution_count": 20,
   "id": "c084324d",
   "metadata": {},
   "outputs": [],
   "source": [
    "data = pd.read_csv(directory_to_extract_to + '/train.csv')"
   ]
  },
  {
   "cell_type": "code",
   "execution_count": 21,
   "id": "ab42bdc2",
   "metadata": {},
   "outputs": [],
   "source": [
    "num_vals = ['Age', 'RoomService', 'FoodCourt', 'ShoppingMall', 'Spa', 'VRDeck']\n",
    "cat_vars = ['HomePlanet', 'CryoSleep', 'Destination', 'VIP', 'Deck', 'Side']"
   ]
  },
  {
   "cell_type": "code",
   "execution_count": 22,
   "id": "24b7be9c",
   "metadata": {},
   "outputs": [],
   "source": [
    "data[['Deck', 'CabinNumber', 'Side']] = data['Cabin'].str.split('/', expand=True)\n",
    "data.drop(columns=['Cabin','PassengerId','Name'], inplace=True)\n",
    "data[cat_vars] = data[cat_vars].replace(np.nan, 'Missing')\n",
    "data.dropna(inplace=True)\n",
    "data[cat_vars] = data[cat_vars].astype(str)"
   ]
  },
  {
   "cell_type": "code",
   "execution_count": 23,
   "id": "505a6932",
   "metadata": {},
   "outputs": [
    {
     "data": {
      "text/html": [
       "<div>\n",
       "<style scoped>\n",
       "    .dataframe tbody tr th:only-of-type {\n",
       "        vertical-align: middle;\n",
       "    }\n",
       "\n",
       "    .dataframe tbody tr th {\n",
       "        vertical-align: top;\n",
       "    }\n",
       "\n",
       "    .dataframe thead th {\n",
       "        text-align: right;\n",
       "    }\n",
       "</style>\n",
       "<table border=\"1\" class=\"dataframe\">\n",
       "  <thead>\n",
       "    <tr style=\"text-align: right;\">\n",
       "      <th></th>\n",
       "      <th>HomePlanet</th>\n",
       "      <th>CryoSleep</th>\n",
       "      <th>Destination</th>\n",
       "      <th>Age</th>\n",
       "      <th>VIP</th>\n",
       "      <th>RoomService</th>\n",
       "      <th>FoodCourt</th>\n",
       "      <th>ShoppingMall</th>\n",
       "      <th>Spa</th>\n",
       "      <th>VRDeck</th>\n",
       "      <th>Transported</th>\n",
       "      <th>Deck</th>\n",
       "      <th>CabinNumber</th>\n",
       "      <th>Side</th>\n",
       "    </tr>\n",
       "  </thead>\n",
       "  <tbody>\n",
       "    <tr>\n",
       "      <th>0</th>\n",
       "      <td>Europa</td>\n",
       "      <td>False</td>\n",
       "      <td>TRAPPIST-1e</td>\n",
       "      <td>39.0</td>\n",
       "      <td>False</td>\n",
       "      <td>0.0</td>\n",
       "      <td>0.0</td>\n",
       "      <td>0.0</td>\n",
       "      <td>0.0</td>\n",
       "      <td>0.0</td>\n",
       "      <td>False</td>\n",
       "      <td>B</td>\n",
       "      <td>0</td>\n",
       "      <td>P</td>\n",
       "    </tr>\n",
       "    <tr>\n",
       "      <th>1</th>\n",
       "      <td>Earth</td>\n",
       "      <td>False</td>\n",
       "      <td>TRAPPIST-1e</td>\n",
       "      <td>24.0</td>\n",
       "      <td>False</td>\n",
       "      <td>109.0</td>\n",
       "      <td>9.0</td>\n",
       "      <td>25.0</td>\n",
       "      <td>549.0</td>\n",
       "      <td>44.0</td>\n",
       "      <td>True</td>\n",
       "      <td>F</td>\n",
       "      <td>0</td>\n",
       "      <td>S</td>\n",
       "    </tr>\n",
       "    <tr>\n",
       "      <th>2</th>\n",
       "      <td>Europa</td>\n",
       "      <td>False</td>\n",
       "      <td>TRAPPIST-1e</td>\n",
       "      <td>58.0</td>\n",
       "      <td>True</td>\n",
       "      <td>43.0</td>\n",
       "      <td>3576.0</td>\n",
       "      <td>0.0</td>\n",
       "      <td>6715.0</td>\n",
       "      <td>49.0</td>\n",
       "      <td>False</td>\n",
       "      <td>A</td>\n",
       "      <td>0</td>\n",
       "      <td>S</td>\n",
       "    </tr>\n",
       "    <tr>\n",
       "      <th>3</th>\n",
       "      <td>Europa</td>\n",
       "      <td>False</td>\n",
       "      <td>TRAPPIST-1e</td>\n",
       "      <td>33.0</td>\n",
       "      <td>False</td>\n",
       "      <td>0.0</td>\n",
       "      <td>1283.0</td>\n",
       "      <td>371.0</td>\n",
       "      <td>3329.0</td>\n",
       "      <td>193.0</td>\n",
       "      <td>False</td>\n",
       "      <td>A</td>\n",
       "      <td>0</td>\n",
       "      <td>S</td>\n",
       "    </tr>\n",
       "    <tr>\n",
       "      <th>4</th>\n",
       "      <td>Earth</td>\n",
       "      <td>False</td>\n",
       "      <td>TRAPPIST-1e</td>\n",
       "      <td>16.0</td>\n",
       "      <td>False</td>\n",
       "      <td>303.0</td>\n",
       "      <td>70.0</td>\n",
       "      <td>151.0</td>\n",
       "      <td>565.0</td>\n",
       "      <td>2.0</td>\n",
       "      <td>True</td>\n",
       "      <td>F</td>\n",
       "      <td>1</td>\n",
       "      <td>S</td>\n",
       "    </tr>\n",
       "  </tbody>\n",
       "</table>\n",
       "</div>"
      ],
      "text/plain": [
       "  HomePlanet CryoSleep  Destination   Age    VIP  RoomService  FoodCourt  \\\n",
       "0     Europa     False  TRAPPIST-1e  39.0  False          0.0        0.0   \n",
       "1      Earth     False  TRAPPIST-1e  24.0  False        109.0        9.0   \n",
       "2     Europa     False  TRAPPIST-1e  58.0   True         43.0     3576.0   \n",
       "3     Europa     False  TRAPPIST-1e  33.0  False          0.0     1283.0   \n",
       "4      Earth     False  TRAPPIST-1e  16.0  False        303.0       70.0   \n",
       "\n",
       "   ShoppingMall     Spa  VRDeck  Transported Deck CabinNumber Side  \n",
       "0           0.0     0.0     0.0        False    B           0    P  \n",
       "1          25.0   549.0    44.0         True    F           0    S  \n",
       "2           0.0  6715.0    49.0        False    A           0    S  \n",
       "3         371.0  3329.0   193.0        False    A           0    S  \n",
       "4         151.0   565.0     2.0         True    F           1    S  "
      ]
     },
     "execution_count": 23,
     "metadata": {},
     "output_type": "execute_result"
    }
   ],
   "source": [
    "data.head()"
   ]
  },
  {
   "cell_type": "code",
   "execution_count": 24,
   "id": "07ba7457",
   "metadata": {},
   "outputs": [],
   "source": [
    "X_train, X_test, y_train, y_test = train_test_split_titanic(ohe_dataset(cat_vars, data))\n",
    "dfs.append(Dataset(X_train, X_test, y_train, y_test, 'no_columns'))"
   ]
  },
  {
   "cell_type": "markdown",
   "id": "9d2107ac",
   "metadata": {},
   "source": [
    "## TotalSpent dataset"
   ]
  },
  {
   "cell_type": "code",
   "execution_count": 25,
   "id": "2739dd62",
   "metadata": {},
   "outputs": [],
   "source": [
    "data = pd.read_csv(directory_to_extract_to + '/train.csv')"
   ]
  },
  {
   "cell_type": "code",
   "execution_count": 26,
   "id": "566ff508",
   "metadata": {},
   "outputs": [],
   "source": [
    "num_vals = ['Age', 'RoomService', 'FoodCourt', 'ShoppingMall', 'Spa', 'VRDeck','TotalSpent']\n",
    "cat_vars = ['HomePlanet', 'CryoSleep', 'Destination', 'VIP', 'Deck', 'Side']"
   ]
  },
  {
   "cell_type": "code",
   "execution_count": 27,
   "id": "7a92bcac",
   "metadata": {},
   "outputs": [],
   "source": [
    "data[['Deck', 'CabinNumber', 'Side']] = data['Cabin'].str.split('/', expand=True)\n",
    "data['TotalSpent'] = data['RoomService']+data['FoodCourt']+data['ShoppingMall']+data['Spa']+data['VRDeck']\n",
    "data.drop(columns=['Cabin','PassengerId','Name'], inplace=True)\n",
    "data[cat_vars] = data[cat_vars].replace(np.nan, 'Missing')\n",
    "data.dropna(inplace=True)\n",
    "data[cat_vars] = data[cat_vars].astype(str)"
   ]
  },
  {
   "cell_type": "code",
   "execution_count": 28,
   "id": "18498a70",
   "metadata": {},
   "outputs": [
    {
     "data": {
      "text/html": [
       "<div>\n",
       "<style scoped>\n",
       "    .dataframe tbody tr th:only-of-type {\n",
       "        vertical-align: middle;\n",
       "    }\n",
       "\n",
       "    .dataframe tbody tr th {\n",
       "        vertical-align: top;\n",
       "    }\n",
       "\n",
       "    .dataframe thead th {\n",
       "        text-align: right;\n",
       "    }\n",
       "</style>\n",
       "<table border=\"1\" class=\"dataframe\">\n",
       "  <thead>\n",
       "    <tr style=\"text-align: right;\">\n",
       "      <th></th>\n",
       "      <th>HomePlanet</th>\n",
       "      <th>CryoSleep</th>\n",
       "      <th>Destination</th>\n",
       "      <th>Age</th>\n",
       "      <th>VIP</th>\n",
       "      <th>RoomService</th>\n",
       "      <th>FoodCourt</th>\n",
       "      <th>ShoppingMall</th>\n",
       "      <th>Spa</th>\n",
       "      <th>VRDeck</th>\n",
       "      <th>Transported</th>\n",
       "      <th>Deck</th>\n",
       "      <th>CabinNumber</th>\n",
       "      <th>Side</th>\n",
       "      <th>TotalSpent</th>\n",
       "    </tr>\n",
       "  </thead>\n",
       "  <tbody>\n",
       "    <tr>\n",
       "      <th>0</th>\n",
       "      <td>Europa</td>\n",
       "      <td>False</td>\n",
       "      <td>TRAPPIST-1e</td>\n",
       "      <td>39.0</td>\n",
       "      <td>False</td>\n",
       "      <td>0.0</td>\n",
       "      <td>0.0</td>\n",
       "      <td>0.0</td>\n",
       "      <td>0.0</td>\n",
       "      <td>0.0</td>\n",
       "      <td>False</td>\n",
       "      <td>B</td>\n",
       "      <td>0</td>\n",
       "      <td>P</td>\n",
       "      <td>0.0</td>\n",
       "    </tr>\n",
       "    <tr>\n",
       "      <th>1</th>\n",
       "      <td>Earth</td>\n",
       "      <td>False</td>\n",
       "      <td>TRAPPIST-1e</td>\n",
       "      <td>24.0</td>\n",
       "      <td>False</td>\n",
       "      <td>109.0</td>\n",
       "      <td>9.0</td>\n",
       "      <td>25.0</td>\n",
       "      <td>549.0</td>\n",
       "      <td>44.0</td>\n",
       "      <td>True</td>\n",
       "      <td>F</td>\n",
       "      <td>0</td>\n",
       "      <td>S</td>\n",
       "      <td>736.0</td>\n",
       "    </tr>\n",
       "    <tr>\n",
       "      <th>2</th>\n",
       "      <td>Europa</td>\n",
       "      <td>False</td>\n",
       "      <td>TRAPPIST-1e</td>\n",
       "      <td>58.0</td>\n",
       "      <td>True</td>\n",
       "      <td>43.0</td>\n",
       "      <td>3576.0</td>\n",
       "      <td>0.0</td>\n",
       "      <td>6715.0</td>\n",
       "      <td>49.0</td>\n",
       "      <td>False</td>\n",
       "      <td>A</td>\n",
       "      <td>0</td>\n",
       "      <td>S</td>\n",
       "      <td>10383.0</td>\n",
       "    </tr>\n",
       "    <tr>\n",
       "      <th>3</th>\n",
       "      <td>Europa</td>\n",
       "      <td>False</td>\n",
       "      <td>TRAPPIST-1e</td>\n",
       "      <td>33.0</td>\n",
       "      <td>False</td>\n",
       "      <td>0.0</td>\n",
       "      <td>1283.0</td>\n",
       "      <td>371.0</td>\n",
       "      <td>3329.0</td>\n",
       "      <td>193.0</td>\n",
       "      <td>False</td>\n",
       "      <td>A</td>\n",
       "      <td>0</td>\n",
       "      <td>S</td>\n",
       "      <td>5176.0</td>\n",
       "    </tr>\n",
       "    <tr>\n",
       "      <th>4</th>\n",
       "      <td>Earth</td>\n",
       "      <td>False</td>\n",
       "      <td>TRAPPIST-1e</td>\n",
       "      <td>16.0</td>\n",
       "      <td>False</td>\n",
       "      <td>303.0</td>\n",
       "      <td>70.0</td>\n",
       "      <td>151.0</td>\n",
       "      <td>565.0</td>\n",
       "      <td>2.0</td>\n",
       "      <td>True</td>\n",
       "      <td>F</td>\n",
       "      <td>1</td>\n",
       "      <td>S</td>\n",
       "      <td>1091.0</td>\n",
       "    </tr>\n",
       "  </tbody>\n",
       "</table>\n",
       "</div>"
      ],
      "text/plain": [
       "  HomePlanet CryoSleep  Destination   Age    VIP  RoomService  FoodCourt  \\\n",
       "0     Europa     False  TRAPPIST-1e  39.0  False          0.0        0.0   \n",
       "1      Earth     False  TRAPPIST-1e  24.0  False        109.0        9.0   \n",
       "2     Europa     False  TRAPPIST-1e  58.0   True         43.0     3576.0   \n",
       "3     Europa     False  TRAPPIST-1e  33.0  False          0.0     1283.0   \n",
       "4      Earth     False  TRAPPIST-1e  16.0  False        303.0       70.0   \n",
       "\n",
       "   ShoppingMall     Spa  VRDeck  Transported Deck CabinNumber Side  TotalSpent  \n",
       "0           0.0     0.0     0.0        False    B           0    P         0.0  \n",
       "1          25.0   549.0    44.0         True    F           0    S       736.0  \n",
       "2           0.0  6715.0    49.0        False    A           0    S     10383.0  \n",
       "3         371.0  3329.0   193.0        False    A           0    S      5176.0  \n",
       "4         151.0   565.0     2.0         True    F           1    S      1091.0  "
      ]
     },
     "execution_count": 28,
     "metadata": {},
     "output_type": "execute_result"
    }
   ],
   "source": [
    "data.head()"
   ]
  },
  {
   "cell_type": "code",
   "execution_count": 29,
   "id": "8bf2f011",
   "metadata": {},
   "outputs": [],
   "source": [
    "X_train, X_test, y_train, y_test = train_test_split_titanic(ohe_dataset(cat_vars, data))\n",
    "dfs.append(Dataset(X_train, X_test, y_train, y_test, 'total_spent'))"
   ]
  },
  {
   "cell_type": "markdown",
   "id": "55a2ebc9",
   "metadata": {},
   "source": [
    "## AverageSpent dataset"
   ]
  },
  {
   "cell_type": "code",
   "execution_count": 30,
   "id": "d82acdd4",
   "metadata": {},
   "outputs": [],
   "source": [
    "data = pd.read_csv(directory_to_extract_to + '/train.csv')"
   ]
  },
  {
   "cell_type": "code",
   "execution_count": 31,
   "id": "c5280527",
   "metadata": {},
   "outputs": [],
   "source": [
    "num_vals = ['Age', 'RoomService', 'FoodCourt', 'ShoppingMall', 'Spa', 'VRDeck']\n",
    "cat_vars = ['HomePlanet', 'CryoSleep', 'Destination', 'VIP', 'Deck', 'Side']"
   ]
  },
  {
   "cell_type": "code",
   "execution_count": 32,
   "id": "0256dba2",
   "metadata": {},
   "outputs": [],
   "source": [
    "data[['Deck', 'CabinNumber', 'Side']] = data['Cabin'].str.split('/', expand=True)\n",
    "for var in ['RoomService', 'FoodCourt', 'ShoppingMall', 'Spa', 'VRDeck']:\n",
    "    data[var] = data[var]/(data['RoomService']+data['FoodCourt']+data['ShoppingMall']+data['Spa']+data['VRDeck'])\n",
    "data.drop(columns=['Cabin','PassengerId','Name'], inplace=True)\n",
    "data[cat_vars] = data[cat_vars].replace(np.nan, 'Missing')\n",
    "data.dropna(inplace=True)\n",
    "data[cat_vars] = data[cat_vars].astype(str)"
   ]
  },
  {
   "cell_type": "code",
   "execution_count": 33,
   "id": "6de9f56b",
   "metadata": {},
   "outputs": [
    {
     "data": {
      "text/html": [
       "<div>\n",
       "<style scoped>\n",
       "    .dataframe tbody tr th:only-of-type {\n",
       "        vertical-align: middle;\n",
       "    }\n",
       "\n",
       "    .dataframe tbody tr th {\n",
       "        vertical-align: top;\n",
       "    }\n",
       "\n",
       "    .dataframe thead th {\n",
       "        text-align: right;\n",
       "    }\n",
       "</style>\n",
       "<table border=\"1\" class=\"dataframe\">\n",
       "  <thead>\n",
       "    <tr style=\"text-align: right;\">\n",
       "      <th></th>\n",
       "      <th>HomePlanet</th>\n",
       "      <th>CryoSleep</th>\n",
       "      <th>Destination</th>\n",
       "      <th>Age</th>\n",
       "      <th>VIP</th>\n",
       "      <th>RoomService</th>\n",
       "      <th>FoodCourt</th>\n",
       "      <th>ShoppingMall</th>\n",
       "      <th>Spa</th>\n",
       "      <th>VRDeck</th>\n",
       "      <th>Transported</th>\n",
       "      <th>Deck</th>\n",
       "      <th>CabinNumber</th>\n",
       "      <th>Side</th>\n",
       "    </tr>\n",
       "  </thead>\n",
       "  <tbody>\n",
       "    <tr>\n",
       "      <th>1</th>\n",
       "      <td>Earth</td>\n",
       "      <td>False</td>\n",
       "      <td>TRAPPIST-1e</td>\n",
       "      <td>24.0</td>\n",
       "      <td>False</td>\n",
       "      <td>0.148098</td>\n",
       "      <td>0.014351</td>\n",
       "      <td>0.040442</td>\n",
       "      <td>0.925484</td>\n",
       "      <td>0.974996</td>\n",
       "      <td>True</td>\n",
       "      <td>F</td>\n",
       "      <td>0</td>\n",
       "      <td>S</td>\n",
       "    </tr>\n",
       "    <tr>\n",
       "      <th>2</th>\n",
       "      <td>Europa</td>\n",
       "      <td>False</td>\n",
       "      <td>TRAPPIST-1e</td>\n",
       "      <td>58.0</td>\n",
       "      <td>True</td>\n",
       "      <td>0.004141</td>\n",
       "      <td>0.345841</td>\n",
       "      <td>0.000000</td>\n",
       "      <td>0.992704</td>\n",
       "      <td>0.973329</td>\n",
       "      <td>False</td>\n",
       "      <td>A</td>\n",
       "      <td>0</td>\n",
       "      <td>S</td>\n",
       "    </tr>\n",
       "    <tr>\n",
       "      <th>3</th>\n",
       "      <td>Europa</td>\n",
       "      <td>False</td>\n",
       "      <td>TRAPPIST-1e</td>\n",
       "      <td>33.0</td>\n",
       "      <td>False</td>\n",
       "      <td>0.000000</td>\n",
       "      <td>0.247875</td>\n",
       "      <td>0.095293</td>\n",
       "      <td>0.945110</td>\n",
       "      <td>0.993369</td>\n",
       "      <td>False</td>\n",
       "      <td>A</td>\n",
       "      <td>0</td>\n",
       "      <td>S</td>\n",
       "    </tr>\n",
       "    <tr>\n",
       "      <th>4</th>\n",
       "      <td>Earth</td>\n",
       "      <td>False</td>\n",
       "      <td>TRAPPIST-1e</td>\n",
       "      <td>16.0</td>\n",
       "      <td>False</td>\n",
       "      <td>0.277727</td>\n",
       "      <td>0.088801</td>\n",
       "      <td>0.210199</td>\n",
       "      <td>0.995460</td>\n",
       "      <td>0.559881</td>\n",
       "      <td>True</td>\n",
       "      <td>F</td>\n",
       "      <td>1</td>\n",
       "      <td>S</td>\n",
       "    </tr>\n",
       "    <tr>\n",
       "      <th>5</th>\n",
       "      <td>Earth</td>\n",
       "      <td>False</td>\n",
       "      <td>PSO J318.5-22</td>\n",
       "      <td>44.0</td>\n",
       "      <td>False</td>\n",
       "      <td>0.000000</td>\n",
       "      <td>0.624031</td>\n",
       "      <td>0.000000</td>\n",
       "      <td>0.997860</td>\n",
       "      <td>0.000000</td>\n",
       "      <td>True</td>\n",
       "      <td>F</td>\n",
       "      <td>0</td>\n",
       "      <td>P</td>\n",
       "    </tr>\n",
       "  </tbody>\n",
       "</table>\n",
       "</div>"
      ],
      "text/plain": [
       "  HomePlanet CryoSleep    Destination   Age    VIP  RoomService  FoodCourt  \\\n",
       "1      Earth     False    TRAPPIST-1e  24.0  False     0.148098   0.014351   \n",
       "2     Europa     False    TRAPPIST-1e  58.0   True     0.004141   0.345841   \n",
       "3     Europa     False    TRAPPIST-1e  33.0  False     0.000000   0.247875   \n",
       "4      Earth     False    TRAPPIST-1e  16.0  False     0.277727   0.088801   \n",
       "5      Earth     False  PSO J318.5-22  44.0  False     0.000000   0.624031   \n",
       "\n",
       "   ShoppingMall       Spa    VRDeck  Transported Deck CabinNumber Side  \n",
       "1      0.040442  0.925484  0.974996         True    F           0    S  \n",
       "2      0.000000  0.992704  0.973329        False    A           0    S  \n",
       "3      0.095293  0.945110  0.993369        False    A           0    S  \n",
       "4      0.210199  0.995460  0.559881         True    F           1    S  \n",
       "5      0.000000  0.997860  0.000000         True    F           0    P  "
      ]
     },
     "execution_count": 33,
     "metadata": {},
     "output_type": "execute_result"
    }
   ],
   "source": [
    "data.head()"
   ]
  },
  {
   "cell_type": "code",
   "execution_count": 34,
   "id": "25e1c311",
   "metadata": {},
   "outputs": [],
   "source": [
    "X_train, X_test, y_train, y_test = train_test_split_titanic(ohe_dataset(cat_vars, data))\n",
    "dfs.append(Dataset(X_train, X_test, y_train, y_test, 'average_spent'))"
   ]
  },
  {
   "cell_type": "markdown",
   "id": "e0afcf00",
   "metadata": {},
   "source": [
    "# Power Transforms dataset"
   ]
  },
  {
   "cell_type": "code",
   "execution_count": 35,
   "id": "bd586a49",
   "metadata": {},
   "outputs": [],
   "source": [
    "data = pd.read_csv(directory_to_extract_to + '/train.csv')"
   ]
  },
  {
   "cell_type": "code",
   "execution_count": 36,
   "id": "0c917434",
   "metadata": {},
   "outputs": [],
   "source": [
    "num_vals = ['Age', 'RoomService', 'FoodCourt', 'ShoppingMall', 'Spa', 'VRDeck']\n",
    "cat_vars = ['HomePlanet', 'CryoSleep', 'Destination', 'VIP', 'Deck', 'Side']"
   ]
  },
  {
   "cell_type": "code",
   "execution_count": 37,
   "id": "2b5877ad",
   "metadata": {},
   "outputs": [],
   "source": [
    "data[['Deck', 'CabinNumber', 'Side']] = data['Cabin'].str.split('/', expand=True)\n",
    "data.drop(columns=['Cabin','PassengerId','Name'], inplace=True)\n",
    "data[cat_vars] = data[cat_vars].replace(np.nan, 'Missing')\n",
    "data.dropna(inplace=True)\n",
    "data[cat_vars] = data[cat_vars].astype(str)"
   ]
  },
  {
   "cell_type": "code",
   "execution_count": 38,
   "id": "20ddd6b2",
   "metadata": {},
   "outputs": [],
   "source": [
    "X_train, X_test, y_train, y_test = train_test_split_titanic(ohe_dataset(cat_vars, data))"
   ]
  },
  {
   "cell_type": "code",
   "execution_count": 39,
   "id": "a828ac53",
   "metadata": {
    "scrolled": true
   },
   "outputs": [
    {
     "name": "stdout",
     "output_type": "stream",
     "text": [
      "RoomService\n",
      "-0.42734098535192505\n",
      "\n",
      "FoodCourt\n",
      "-0.37495890147965627\n",
      "\n",
      "ShoppingMall\n",
      "-0.4784129568363197\n",
      "\n",
      "Spa\n",
      "-0.378622015712443\n",
      "\n",
      "VRDeck\n",
      "-0.405089875741121\n",
      "\n"
     ]
    }
   ],
   "source": [
    "for var in ['RoomService', 'FoodCourt', 'ShoppingMall', 'Spa', 'VRDeck']:\n",
    "    X_train[var], param = stats.yeojohnson(X_train[var])\n",
    "    X_test[var] = stats.yeojohnson(X_test[var], lmbda=param)\n",
    "    print(var)\n",
    "    print(param)\n",
    "    print()"
   ]
  },
  {
   "cell_type": "code",
   "execution_count": 40,
   "id": "fc778c8f",
   "metadata": {},
   "outputs": [
    {
     "data": {
      "image/png": "[encoded data removed]",
      "text/plain": [
       "<Figure size 960x640 with 1 Axes>"
      ]
     },
     "metadata": {
      "needs_background": "light"
     },
     "output_type": "display_data"
    },
    {
     "data": {
      "image/png": "[encoded data removed]",
      "text/plain": [
       "<Figure size 960x640 with 1 Axes>"
      ]
     },
     "metadata": {
      "needs_background": "light"
     },
     "output_type": "display_data"
    },
    {
     "data": {
      "image/png": "[encoded data removed]",
      "text/plain": [
       "<Figure size 960x640 with 1 Axes>"
      ]
     },
     "metadata": {
      "needs_background": "light"
     },
     "output_type": "display_data"
    },
    {
     "data": {
      "image/png": "[encoded data removed]",
      "text/plain": [
       "<Figure size 960x640 with 1 Axes>"
      ]
     },
     "metadata": {
      "needs_background": "light"
     },
     "output_type": "display_data"
    },
    {
     "data": {
      "image/png": "[encoded data removed]",
      "text/plain": [
       "<Figure size 960x640 with 1 Axes>"
      ]
     },
     "metadata": {
      "needs_background": "light"
     },
     "output_type": "display_data"
    },
    {
     "data": {
      "image/png": "[encoded data removed]",
      "text/plain": [
       "<Figure size 960x640 with 1 Axes>"
      ]
     },
     "metadata": {
      "needs_background": "light"
     },
     "output_type": "display_data"
    }
   ],
   "source": [
    "for var in num_vals:\n",
    "    # the histogram of the data\n",
    "    plt.figure(figsize=(12, 8), dpi=80)\n",
    "    X_train[var].hist(bins = 100, density=True)\n",
    "    plt.xlabel(var)\n",
    "    plt.ylabel('Probability')\n",
    "    plt.title('Histogram')\n",
    "    plt.grid(True)\n",
    "    plt.show()"
   ]
  },
  {
   "cell_type": "code",
   "execution_count": 41,
   "id": "f3241496",
   "metadata": {},
   "outputs": [],
   "source": [
    "dfs.append(Dataset(X_train, X_test, y_train, y_test, 'log_transform'))"
   ]
  },
  {
   "cell_type": "markdown",
   "id": "d2377590",
   "metadata": {},
   "source": [
    "# Binarize dataset"
   ]
  },
  {
   "cell_type": "code",
   "execution_count": 42,
   "id": "ed23aa00",
   "metadata": {},
   "outputs": [],
   "source": [
    "data = pd.read_csv(directory_to_extract_to + '/train.csv')"
   ]
  },
  {
   "cell_type": "code",
   "execution_count": 43,
   "id": "04671662",
   "metadata": {},
   "outputs": [],
   "source": [
    "num_vals = ['Age', 'RoomService', 'FoodCourt', 'ShoppingMall', 'Spa', 'VRDeck']\n",
    "cat_vars = ['HomePlanet', 'CryoSleep', 'Destination', 'VIP', 'Deck', 'Side']"
   ]
  },
  {
   "cell_type": "code",
   "execution_count": 44,
   "id": "565c5407",
   "metadata": {},
   "outputs": [],
   "source": [
    "data[['Deck', 'CabinNumber', 'Side']] = data['Cabin'].str.split('/', expand=True)\n",
    "data.drop(columns=['Cabin','PassengerId','Name'], inplace=True)\n",
    "data[cat_vars] = data[cat_vars].replace(np.nan, 'Missing')\n",
    "data.dropna(inplace=True)\n",
    "data[cat_vars] = data[cat_vars].astype(str)"
   ]
  },
  {
   "cell_type": "code",
   "execution_count": 45,
   "id": "12fc0ae6",
   "metadata": {},
   "outputs": [],
   "source": [
    "X_train, X_test, y_train, y_test = train_test_split_titanic(ohe_dataset(cat_vars, data))"
   ]
  },
  {
   "cell_type": "code",
   "execution_count": 46,
   "id": "6bcba0f5",
   "metadata": {
    "scrolled": true
   },
   "outputs": [],
   "source": [
    "skewed = ['RoomService', 'FoodCourt', 'ShoppingMall', 'Spa', 'VRDeck']\n",
    "for var in skewed:    \n",
    "    # map the variable values into 0 and 1\n",
    "    X_train[var] = np.where(X_train[var]==0, 0, 1)\n",
    "    X_test[var] = np.where(X_test[var]==0, 0, 1)"
   ]
  },
  {
   "cell_type": "code",
   "execution_count": 47,
   "id": "8eb6f469",
   "metadata": {},
   "outputs": [],
   "source": [
    "dfs.append(Dataset(X_train, X_test, y_train, y_test, 'binarized'))"
   ]
  },
  {
   "cell_type": "markdown",
   "id": "313b42e2",
   "metadata": {},
   "source": [
    "# Categorical Encoding"
   ]
  },
  {
   "cell_type": "code",
   "execution_count": 48,
   "id": "bd524b61",
   "metadata": {},
   "outputs": [],
   "source": [
    "# TO DO:\n",
    "#  Categorical Encoding\n",
    "#  Feature Scaling"
   ]
  },
  {
   "cell_type": "markdown",
   "id": "f4d66fe1",
   "metadata": {},
   "source": [
    "# Models Loop"
   ]
  },
  {
   "cell_type": "code",
   "execution_count": 49,
   "id": "7c1e9c76",
   "metadata": {},
   "outputs": [
    {
     "data": {
      "text/plain": [
       "['all_columns',\n",
       " 'just_first_name_column',\n",
       " 'no_columns',\n",
       " 'total_spent',\n",
       " 'average_spent',\n",
       " 'log_transform',\n",
       " 'binarized']"
      ]
     },
     "execution_count": 49,
     "metadata": {},
     "output_type": "execute_result"
    }
   ],
   "source": [
    "[df.name for df in dfs]"
   ]
  },
  {
   "cell_type": "code",
   "execution_count": 50,
   "id": "f72c4b2a",
   "metadata": {},
   "outputs": [
    {
     "name": "stdout",
     "output_type": "stream",
     "text": [
      "Dataset all_columns is training\n",
      "\n",
      "Dataset just_first_name_column is training\n",
      "\n",
      "Dataset no_columns is training\n",
      "\n",
      "Dataset total_spent is training\n",
      "\n",
      "Dataset average_spent is training\n",
      "\n",
      "Dataset log_transform is training\n",
      "\n",
      "Dataset binarized is training\n",
      "\n"
     ]
    }
   ],
   "source": [
    "for df in dfs:\n",
    "    print('Dataset', df.name, 'is training')\n",
    "    X_train = df.X_train\n",
    "    y_train = df.y_train\n",
    "    X_test  = df.X_test\n",
    "    y_test  = df.y_test\n",
    "    scores = dict()\n",
    "\n",
    "    scores['lr'] = LogisticRegression(max_iter=100000).fit(X_train, y_train).score(X_test, y_test)\n",
    "    scores['dt'] = DecisionTreeClassifier().fit(X_train, y_train).score(X_test, y_test)\n",
    "    scores['gnb'] = GaussianNB().fit(X_train, y_train).score(X_test, y_test)\n",
    "    scores['svm'] = make_pipeline(StandardScaler(), SVC(gamma='auto')).fit(X_train, y_train).score(X_test, y_test)\n",
    "    scores['gb']  = GradientBoostingClassifier().fit(X_train, y_train).score(X_test, y_test)\n",
    "    scores['rf']  = RandomForestClassifier().fit(X_train, y_train).score(X_test, y_test)\n",
    "    scores['knn'] = KNeighborsClassifier().fit(X_train, y_train).score(X_test, y_test)\n",
    "    df.scores = scores.copy()\n",
    "    print()"
   ]
  },
  {
   "cell_type": "code",
   "execution_count": 51,
   "id": "303eb64f",
   "metadata": {
    "scrolled": false
   },
   "outputs": [
    {
     "name": "stdout",
     "output_type": "stream",
     "text": [
      "Dataset: all_columns\n",
      "Model: lr Accuracy: 0.7931219774314885\n",
      "Model: dt Accuracy: 0.7662547017732402\n",
      "Model: gnb Accuracy: 0.630843632455669\n",
      "Model: svm Accuracy: 0.6286942504030091\n",
      "Model: gb Accuracy: 0.8070929607737776\n",
      "Model: rf Accuracy: 0.7984954325631382\n",
      "Model: knn Accuracy: 0.7743148844707146\n",
      "\n",
      "Dataset: just_first_name_column\n",
      "Model: lr Accuracy: 0.7877485222998388\n",
      "Model: dt Accuracy: 0.7743148844707146\n",
      "Model: gnb Accuracy: 0.6496507254164428\n",
      "Model: svm Accuracy: 0.629768941429339\n",
      "Model: gb Accuracy: 0.8081676518001075\n",
      "Model: rf Accuracy: 0.8054809242342826\n",
      "Model: knn Accuracy: 0.7743148844707146\n",
      "\n",
      "Dataset: no_columns\n",
      "Model: lr Accuracy: 0.7893605588393336\n",
      "Model: dt Accuracy: 0.7458355722729715\n",
      "Model: gnb Accuracy: 0.7608812466415905\n",
      "Model: svm Accuracy: 0.7979580870499732\n",
      "Model: gb Accuracy: 0.814615797958087\n",
      "Model: rf Accuracy: 0.8049435787211177\n",
      "Model: knn Accuracy: 0.7743148844707146\n",
      "\n",
      "Dataset: total_spent\n",
      "Model: lr Accuracy: 0.7877485222998388\n",
      "Model: dt Accuracy: 0.7420741536808168\n",
      "Model: gnb Accuracy: 0.7565824825362708\n",
      "Model: svm Accuracy: 0.7979580870499732\n",
      "Model: gb Accuracy: 0.8135411069317571\n",
      "Model: rf Accuracy: 0.8081676518001075\n",
      "Model: knn Accuracy: 0.7705534658785599\n",
      "\n",
      "Dataset: average_spent\n",
      "Model: lr Accuracy: 0.7836846929422548\n",
      "Model: dt Accuracy: 0.7213565536205316\n",
      "Model: gnb Accuracy: 0.694775435380385\n",
      "Model: svm Accuracy: 0.7956003666361137\n",
      "Model: gb Accuracy: 0.8010999083409716\n",
      "Model: rf Accuracy: 0.8075160403299725\n",
      "Model: knn Accuracy: 0.6489459211732356\n",
      "\n",
      "Dataset: log_transform\n",
      "Model: lr Accuracy: 0.7614185921547555\n",
      "Model: dt Accuracy: 0.7404621171413218\n",
      "Model: gnb Accuracy: 0.7270284793121977\n",
      "Model: svm Accuracy: 0.7694787748522299\n",
      "Model: gb Accuracy: 0.814615797958087\n",
      "Model: rf Accuracy: 0.8049435787211177\n",
      "Model: knn Accuracy: 0.6082751209027405\n",
      "\n",
      "Dataset: binarized\n",
      "Model: lr Accuracy: 0.7415368081676518\n",
      "Model: dt Accuracy: 0.6824288017195056\n",
      "Model: gnb Accuracy: 0.7211176786673831\n",
      "Model: svm Accuracy: 0.753895754970446\n",
      "Model: gb Accuracy: 0.7689414293390651\n",
      "Model: rf Accuracy: 0.7334766254701773\n",
      "Model: knn Accuracy: 0.5722729715206878\n",
      "\n"
     ]
    }
   ],
   "source": [
    "for df in dfs:\n",
    "    print('Dataset:', df.name)\n",
    "    for key, value in df.scores.items():\n",
    "        print('Model:', key, 'Accuracy:', value)\n",
    "    print()\n",
    "\n",
    "del dfs"
   ]
  }
 ],
 "metadata": {
  "kernelspec": {
   "display_name": ".mlops",
   "language": "python",
   "name": ".mlops"
  },
  "language_info": {
   "codemirror_mode": {
    "name": "ipython",
    "version": 3
   },
   "file_extension": ".py",
   "mimetype": "text/x-python",
   "name": "python",
   "nbconvert_exporter": "python",
   "pygments_lexer": "ipython3",
   "version": "3.9.6"
  }
 },
 "nbformat": 4,
 "nbformat_minor": 5
}
